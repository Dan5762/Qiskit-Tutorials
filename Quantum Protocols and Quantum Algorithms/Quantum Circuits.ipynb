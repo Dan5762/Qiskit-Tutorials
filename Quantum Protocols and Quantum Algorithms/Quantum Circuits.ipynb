{
 "cells": [
  {
   "cell_type": "markdown",
   "metadata": {},
   "source": [
    "# Quantum Circuits"
   ]
  },
  {
   "cell_type": "markdown",
   "metadata": {},
   "source": [
    "**Quantum circuit** - Computational routine of coherent operations (gates, measurements and resets) on quantum data (qubits) and concurrent real-time classical computation\n",
    "\n",
    "**Universal Quantum Gates** - Requires any unitary to be efficiently approximated by a sequence of the gates"
   ]
  }
 ],
 "metadata": {
  "kernelspec": {
   "display_name": "Python 3.9.7 ('py39')",
   "language": "python",
   "name": "python3"
  },
  "language_info": {
   "codemirror_mode": {
    "name": "ipython",
    "version": 3
   },
   "file_extension": ".py",
   "mimetype": "text/x-python",
   "name": "python",
   "nbconvert_exporter": "python",
   "pygments_lexer": "ipython3",
   "version": "3.9.7"
  },
  "orig_nbformat": 4,
  "vscode": {
   "interpreter": {
    "hash": "ca79bf34681cf38bd01cc5b42010a5abda29546291fc4b4ed134c8e9ddf49d1c"
   }
  }
 },
 "nbformat": 4,
 "nbformat_minor": 2
}
