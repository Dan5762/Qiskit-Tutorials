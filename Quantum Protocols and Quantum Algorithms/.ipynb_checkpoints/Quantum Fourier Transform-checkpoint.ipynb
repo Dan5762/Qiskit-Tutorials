{
 "cells": [
  {
   "cell_type": "markdown",
   "metadata": {},
   "source": [
    "# Quantum Fourier Transform"
   ]
  },
  {
   "cell_type": "markdown",
   "metadata": {},
   "source": [
    "The discrete Fourier transform is defined as\n",
    "$$ y_k = \\frac{1}{\\sqrt{N}} \\sum_{j=0}^{N-1} x_j \\omega_N^{jk} $$\n",
    "where $\\omega_N^{jk} = e^{2 \\pi i \\frac{jk}{N}}$.\n",
    "\n",
    "We can tranform this to a quantum algorithm by instead considering the transform on the state $\\ket{X} = \\sum_{j=0}^{N-1} x_j \\ket{j} $, yielding the output state $\\ket{Y} = \\sum_{k=0}^{N-1} y_k \\ket{k}$. This corresponds to the unitary matrix\n",
    "$$ U_{QFT} = \\frac{1}{\\sqrt{N}} \\sum_{j=0}^{N-1} \\sum_{k=0}^{N-1} \\omega_N^{jk} \\ket{k} \\bra{j} $$"
   ]
  },
  {
   "cell_type": "markdown",
   "metadata": {},
   "source": []
  }
 ],
 "metadata": {
  "kernelspec": {
   "display_name": "Python 3.10.7 64-bit",
   "language": "python",
   "name": "python3"
  },
  "language_info": {
   "codemirror_mode": {
    "name": "ipython",
    "version": 3
   },
   "file_extension": ".py",
   "mimetype": "text/x-python",
   "name": "python",
   "nbconvert_exporter": "python",
   "pygments_lexer": "ipython3",
   "version": "3.10.8"
  },
  "orig_nbformat": 4,
  "vscode": {
   "interpreter": {
    "hash": "b0fa6594d8f4cbf19f97940f81e996739fb7646882a419484c72d19e05852a7e"
   }
  }
 },
 "nbformat": 4,
 "nbformat_minor": 2
}
