{
 "cells": [
  {
   "cell_type": "markdown",
   "metadata": {},
   "source": [
    "# Bernstein-Vazirani Algorithm"
   ]
  },
  {
   "cell_type": "markdown",
   "metadata": {},
   "source": [
    "The algorithm operates on a function\n",
    "$$f(\\{x_0, x_1, x_2,...\\}) \\rightarrow 0\\ \\text{or}\\ 1$$\n",
    "for which the output is the bitwise product of the input and some string $s$ of bits, ie $f(x)=s \\cdot x\\ (\\text{mod}\\ 2)$, and the goal is to determine $s$."
   ]
  },
  {
   "cell_type": "markdown",
   "metadata": {},
   "source": [
    "### Classical Solution"
   ]
  },
  {
   "cell_type": "markdown",
   "metadata": {},
   "source": [
    "One can reveal the hidden string one bit at a time, for example through applying $x_0 = 100$, $x_1 = 010$ ... This requires $n$ calls of the function."
   ]
  },
  {
   "cell_type": "markdown",
   "metadata": {},
   "source": [
    "### Quantum Solution"
   ]
  },
  {
   "cell_type": "markdown",
   "metadata": {},
   "source": [
    "<p align=\"center\"><img src=\"images/bernstein-vazirani-circuit.png\"/></p>"
   ]
  },
  {
   "cell_type": "markdown",
   "metadata": {},
   "source": [
    "The quantum algorithm goes as:\n",
    "\n",
    "1. Initialise the input qubits as $\\ket{0}^{\\otimes n}$ and the ouput qubit as $\\ket{-}$\n",
    "\n",
    "2. Apply Hadamards to the input qubits\n",
    "\n",
    "3. Query the oracle on the inputs\n",
    "\n",
    "4. Apply Hadamards to the inputs\n",
    "\n",
    "5. Measure\n",
    "\n",
    "We can understand the algorithm by considering the effect of applying Hadamards to an arbitrary $n$-qubit state\n",
    "\n",
    "$$H^{\\otimes n} \\ket{a} = \\frac{1}{\\sqrt{2^n}} \\sum_{x \\in \\{ 0,1 \\}^n} (-1)^{a \\cdot x} \\ket{x}$$\n",
    "\n",
    "In particular on the initial state $\\ket{00...0}$ we find\n",
    "\n",
    "$$ H^{\\otimes n} \\ket{00...0} = \\frac{1}{\\sqrt{2^n}} \\sum_{x \\in \\{ 0,1 \\}^n} \\ket{x}$$\n",
    "\n",
    "In this case the phases disappear since $a \\cdot x = 0$ as $a=0$\n",
    "\n",
    "Conditionally acting on the $\\ket{-}$ state with the oracle $f_s(x) = s \\cdot x\\ \\text{mod}\\ 2$ yields the same phase kickback seen in the Deutsch-Josza algorithm. This results in the final state\n",
    "\n",
    "$$ \\ket{s} = H^{\\otimes n} \\left[ \\frac{1}{\\sqrt{2^n}} \\sum_{x \\in \\{ 0,1 \\}^n} (-1)^{s \\cdot x} \\ket{x} \\right]$$"
   ]
  },
  {
   "cell_type": "markdown",
   "metadata": {},
   "source": [
    "## Qiskit Implementation"
   ]
  },
  {
   "cell_type": "code",
   "execution_count": 1,
   "metadata": {},
   "outputs": [],
   "source": [
    "# initialization\n",
    "import matplotlib.pyplot as plt\n",
    "import numpy as np\n",
    "\n",
    "# importing Qiskit\n",
    "from qiskit import IBMQ, Aer\n",
    "from qiskit.providers.ibmq import least_busy\n",
    "from qiskit import QuantumCircuit, ClassicalRegister, QuantumRegister, transpile\n",
    "\n",
    "# import basic plot tools\n",
    "from qiskit.visualization import plot_histogram"
   ]
  },
  {
   "cell_type": "code",
   "execution_count": 7,
   "metadata": {},
   "outputs": [],
   "source": [
    "n = 4 # number of qubits used to represent s\n",
    "s = '1011'   # the hidden binary string"
   ]
  },
  {
   "cell_type": "code",
   "execution_count": 8,
   "metadata": {},
   "outputs": [
    {
     "data": {
      "text/html": [
       "<pre style=\"word-wrap: normal;white-space: pre;background: #fff0;line-height: 1.1;font-family: &quot;Courier New&quot;,Courier,monospace\">     ┌───┐      ░                      ░ ┌───┐┌─┐         \n",
       "q_0: ┤ H ├──────░───■──────────────────░─┤ H ├┤M├─────────\n",
       "     ├───┤      ░   │                  ░ ├───┤└╥┘┌─┐      \n",
       "q_1: ┤ H ├──────░───┼─────────■────────░─┤ H ├─╫─┤M├──────\n",
       "     ├───┤      ░   │  ┌───┐  │        ░ ├───┤ ║ └╥┘┌─┐   \n",
       "q_2: ┤ H ├──────░───┼──┤ I ├──┼────────░─┤ H ├─╫──╫─┤M├───\n",
       "     ├───┤      ░   │  └───┘  │        ░ ├───┤ ║  ║ └╥┘┌─┐\n",
       "q_3: ┤ H ├──────░───┼─────────┼────■───░─┤ H ├─╫──╫──╫─┤M├\n",
       "     ├───┤┌───┐ ░ ┌─┴─┐     ┌─┴─┐┌─┴─┐ ░ └───┘ ║  ║  ║ └╥┘\n",
       "q_4: ┤ H ├┤ Z ├─░─┤ X ├─────┤ X ├┤ X ├─░───────╫──╫──╫──╫─\n",
       "     └───┘└───┘ ░ └───┘     └───┘└───┘ ░       ║  ║  ║  ║ \n",
       "c: 4/══════════════════════════════════════════╩══╩══╩══╩═\n",
       "                                               0  1  2  3 </pre>"
      ],
      "text/plain": [
       "     ┌───┐      ░                      ░ ┌───┐┌─┐         \n",
       "q_0: ┤ H ├──────░───■──────────────────░─┤ H ├┤M├─────────\n",
       "     ├───┤      ░   │                  ░ ├───┤└╥┘┌─┐      \n",
       "q_1: ┤ H ├──────░───┼─────────■────────░─┤ H ├─╫─┤M├──────\n",
       "     ├───┤      ░   │  ┌───┐  │        ░ ├───┤ ║ └╥┘┌─┐   \n",
       "q_2: ┤ H ├──────░───┼──┤ I ├──┼────────░─┤ H ├─╫──╫─┤M├───\n",
       "     ├───┤      ░   │  └───┘  │        ░ ├───┤ ║  ║ └╥┘┌─┐\n",
       "q_3: ┤ H ├──────░───┼─────────┼────■───░─┤ H ├─╫──╫──╫─┤M├\n",
       "     ├───┤┌───┐ ░ ┌─┴─┐     ┌─┴─┐┌─┴─┐ ░ └───┘ ║  ║  ║ └╥┘\n",
       "q_4: ┤ H ├┤ Z ├─░─┤ X ├─────┤ X ├┤ X ├─░───────╫──╫──╫──╫─\n",
       "     └───┘└───┘ ░ └───┘     └───┘└───┘ ░       ║  ║  ║  ║ \n",
       "c: 4/══════════════════════════════════════════╩══╩══╩══╩═\n",
       "                                               0  1  2  3 "
      ]
     },
     "execution_count": 8,
     "metadata": {},
     "output_type": "execute_result"
    }
   ],
   "source": [
    "# We need a circuit with n qubits, plus one auxiliary qubit\n",
    "# Also need n classical bits to write the output to\n",
    "bv_circuit = QuantumCircuit(n+1, n)\n",
    "\n",
    "# put auxiliary in state |->\n",
    "bv_circuit.h(n)\n",
    "bv_circuit.z(n)\n",
    "\n",
    "# Apply Hadamard gates before querying the oracle\n",
    "for i in range(n):\n",
    "    bv_circuit.h(i)\n",
    "    \n",
    "# Apply barrier \n",
    "bv_circuit.barrier()\n",
    "\n",
    "# Apply the inner-product oracle\n",
    "s = s[::-1] # reverse s to fit qiskit's qubit ordering\n",
    "for q in range(n):\n",
    "    if s[q] == '0':\n",
    "        bv_circuit.i(q)\n",
    "    else:\n",
    "        bv_circuit.cx(q, n)\n",
    "        \n",
    "# Apply barrier \n",
    "bv_circuit.barrier()\n",
    "\n",
    "#Apply Hadamard gates after querying the oracle\n",
    "for i in range(n):\n",
    "    bv_circuit.h(i)\n",
    "\n",
    "# Measurement\n",
    "for i in range(n):\n",
    "    bv_circuit.measure(i, i)\n",
    "\n",
    "bv_circuit.draw()"
   ]
  },
  {
   "cell_type": "code",
   "execution_count": 9,
   "metadata": {},
   "outputs": [
    {
     "data": {
      "image/png": "[encoded data removed]",
      "text/plain": [
       "<Figure size 504x360 with 1 Axes>"
      ]
     },
     "execution_count": 9,
     "metadata": {},
     "output_type": "execute_result"
    }
   ],
   "source": [
    "# use local simulator\n",
    "aer_sim = Aer.get_backend('aer_simulator')\n",
    "shots = 1024\n",
    "results = aer_sim.run(bv_circuit).result()\n",
    "answer = results.get_counts()\n",
    "\n",
    "plot_histogram(answer)"
   ]
  }
 ],
 "metadata": {
  "kernelspec": {
   "display_name": "Python 3.9.7 ('py39')",
   "language": "python",
   "name": "python3"
  },
  "language_info": {
   "codemirror_mode": {
    "name": "ipython",
    "version": 3
   },
   "file_extension": ".py",
   "mimetype": "text/x-python",
   "name": "python",
   "nbconvert_exporter": "python",
   "pygments_lexer": "ipython3",
   "version": "3.9.7"
  },
  "orig_nbformat": 4,
  "vscode": {
   "interpreter": {
    "hash": "ca79bf34681cf38bd01cc5b42010a5abda29546291fc4b4ed134c8e9ddf49d1c"
   }
  }
 },
 "nbformat": 4,
 "nbformat_minor": 2
}
