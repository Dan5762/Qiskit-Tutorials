{
 "cells": [
  {
   "cell_type": "markdown",
   "metadata": {},
   "source": [
    "# Simon's Algorithm"
   ]
  },
  {
   "cell_type": "markdown",
   "metadata": {},
   "source": [
    "Given a blackbox function $f$ we seek to determine if it is one-to-one or two-to-one. \n",
    "\n",
    "> **One-to-One**: $f(1) \\rightarrow 1$, $f(2) \\rightarrow 2$, $f(3) \\rightarrow 3$, $f(4) \\rightarrow 4$  \n",
    "> **Two-to-One**: $f(1) \\rightarrow 1$, $f(2) \\rightarrow 2$, $f(3) \\rightarrow 1$, $f(4) \\rightarrow 2$\n",
    "\n",
    "A two-to-one mapping is defined by a hidden bitstring $b$, where\n",
    "\n",
    "$$ \\text{Given}\\ x_1, x_2\\ \\text{if}\\ f(x_1) = f(x_2) \\implies x_1 \\oplus x_2 = b$$\n",
    "\n",
    "which therefore reduces the problem to finding $b$ and determining if $b=00...$ which would imply a one-to-one mapping."
   ]
  },
  {
   "cell_type": "markdown",
   "metadata": {},
   "source": [
    "## Classical Solution"
   ]
  },
  {
   "cell_type": "markdown",
   "metadata": {},
   "source": []
  }
 ],
 "metadata": {
  "kernelspec": {
   "display_name": "Python 3.10.7 64-bit",
   "language": "python",
   "name": "python3"
  },
  "language_info": {
   "name": "python",
   "version": "3.10.7"
  },
  "orig_nbformat": 4,
  "vscode": {
   "interpreter": {
    "hash": "b0fa6594d8f4cbf19f97940f81e996739fb7646882a419484c72d19e05852a7e"
   }
  }
 },
 "nbformat": 4,
 "nbformat_minor": 2
}
